{
 "cells": [
  {
   "cell_type": "markdown",
   "metadata": {},
   "source": [
    "# Module 8 Exercise - Data Storytelling\n",
    "\n",
    "In this exercise, you will **create a narrative visualization with a data set of your choosing**. You can choose any data set you can find on the Internet, or a data set related to your current line of work. \n",
    "\n",
    "**You will create visualizations to give a message, make a point, or convince your audience by using all the techniques we have seen throughout the course.**\n",
    "\n",
    "Here is a list of your tasks:\n",
    "\n",
    "1. Find a data set and upload it to your exercises folder in module 8. \n",
    "\n",
    "2. Write your R code **in this exercise notebook** to create your visualizations, and save them under `exercises` folder.\n",
    "\n",
    "3. Create a **narrative visualization document** using **any** software you want (Word, PowerPoint, Photoshop, etc.) by pasting your visualizations and creating all necessary elements (captions, text annotations, layout, etc.) \n",
    "\n",
    "4. Save your end product as a **pdf file** and upload it to your exercises folder (**name it L8_Exercise.pdf**)\n",
    "\n",
    "Make sure that you start with a clear message in mind, and filter and format your data accordingly, and create the visualizations that will **support that message**. \n",
    "\n",
    "You need to have **at least one major visualization, and a number of supporting smaller graphs (2, 3, or more)**. Make sure to have a **clean layout**, and **enough text annotations and captions** to make your message clear. \n",
    "\n",
    "You can choose any type of visualization that you believe will be most **effective** for the type of data and the message you have chosen. \n",
    "\n",
    "You will be graded by the quality of your visualizations and storytelling; **make sure to use everything you have learned in this course.** \n",
    "\n",
    "\n",
    "Following is to show how to plot to a file to save a graph:"
   ]
  },
  {
   "cell_type": "code",
   "execution_count": 1,
   "metadata": {},
   "outputs": [
    {
     "data": {
      "text/html": [
       "<strong>png:</strong> 2"
      ],
      "text/latex": [
       "\\textbf{png:} 2"
      ],
      "text/markdown": [
       "**png:** 2"
      ],
      "text/plain": [
       "png \n",
       "  2 "
      ]
     },
     "metadata": {},
     "output_type": "display_data"
    }
   ],
   "source": [
    "# this is how you save a plot to a file\n",
    "library(ggplot2)\n",
    "\n",
    "# comment this out to see the plot in the notebook \n",
    "png(filename=\"myplot.png\")\n",
    "\n",
    "# your plot here..\n",
    "qplot(carat, price, data = diamonds)\n",
    "\n",
    "# comment this out to see the plot in the notebook\n",
    "dev.off()"
   ]
  },
  {
   "cell_type": "markdown",
   "metadata": {},
   "source": [
    "Make sure you have all axis labels set in R notebook before you save your plot. You can adjust width and height when saving your plots.  Here is a reference to png() function:\n",
    "https://stat.ethz.ch/R-manual/R-devel/library/grDevices/html/png.html"
   ]
  },
  {
   "cell_type": "markdown",
   "metadata": {},
   "source": [
    "**Activity:**"
   ]
  },
  {
   "cell_type": "code",
   "execution_count": 23,
   "metadata": {},
   "outputs": [
    {
     "data": {
      "text/html": [
       "<table>\n",
       "<caption>A data.frame: 6 × 21</caption>\n",
       "<thead>\n",
       "\t<tr><th scope=col>Date</th><th scope=col>Time</th><th scope=col>Latitude</th><th scope=col>Longitude</th><th scope=col>Type</th><th scope=col>Depth</th><th scope=col>Depth.Error</th><th scope=col>Depth.Seismic.Stations</th><th scope=col>Magnitude</th><th scope=col>Magnitude.Type</th><th scope=col>⋯</th><th scope=col>Magnitude.Seismic.Stations</th><th scope=col>Azimuthal.Gap</th><th scope=col>Horizontal.Distance</th><th scope=col>Horizontal.Error</th><th scope=col>Root.Mean.Square</th><th scope=col>ID</th><th scope=col>Source</th><th scope=col>Location.Source</th><th scope=col>Magnitude.Source</th><th scope=col>Status</th></tr>\n",
       "\t<tr><th scope=col>&lt;fct&gt;</th><th scope=col>&lt;fct&gt;</th><th scope=col>&lt;dbl&gt;</th><th scope=col>&lt;dbl&gt;</th><th scope=col>&lt;fct&gt;</th><th scope=col>&lt;dbl&gt;</th><th scope=col>&lt;dbl&gt;</th><th scope=col>&lt;int&gt;</th><th scope=col>&lt;dbl&gt;</th><th scope=col>&lt;fct&gt;</th><th scope=col>⋯</th><th scope=col>&lt;int&gt;</th><th scope=col>&lt;dbl&gt;</th><th scope=col>&lt;dbl&gt;</th><th scope=col>&lt;dbl&gt;</th><th scope=col>&lt;dbl&gt;</th><th scope=col>&lt;fct&gt;</th><th scope=col>&lt;fct&gt;</th><th scope=col>&lt;fct&gt;</th><th scope=col>&lt;fct&gt;</th><th scope=col>&lt;fct&gt;</th></tr>\n",
       "</thead>\n",
       "<tbody>\n",
       "\t<tr><td>01/02/1965</td><td>13:44:18</td><td> 19.246</td><td> 145.616</td><td>Earthquake</td><td>131.6</td><td>NA</td><td>NA</td><td>6.0</td><td>MW</td><td>⋯</td><td>NA</td><td>NA</td><td>NA</td><td>NA</td><td>NA</td><td>ISCGEM860706</td><td>ISCGEM</td><td>ISCGEM</td><td>ISCGEM</td><td>Automatic</td></tr>\n",
       "\t<tr><td>01/04/1965</td><td>11:29:49</td><td>  1.863</td><td> 127.352</td><td>Earthquake</td><td> 80.0</td><td>NA</td><td>NA</td><td>5.8</td><td>MW</td><td>⋯</td><td>NA</td><td>NA</td><td>NA</td><td>NA</td><td>NA</td><td>ISCGEM860737</td><td>ISCGEM</td><td>ISCGEM</td><td>ISCGEM</td><td>Automatic</td></tr>\n",
       "\t<tr><td>01/05/1965</td><td>18:05:58</td><td>-20.579</td><td>-173.972</td><td>Earthquake</td><td> 20.0</td><td>NA</td><td>NA</td><td>6.2</td><td>MW</td><td>⋯</td><td>NA</td><td>NA</td><td>NA</td><td>NA</td><td>NA</td><td>ISCGEM860762</td><td>ISCGEM</td><td>ISCGEM</td><td>ISCGEM</td><td>Automatic</td></tr>\n",
       "\t<tr><td>01/08/1965</td><td>18:49:43</td><td>-59.076</td><td> -23.557</td><td>Earthquake</td><td> 15.0</td><td>NA</td><td>NA</td><td>5.8</td><td>MW</td><td>⋯</td><td>NA</td><td>NA</td><td>NA</td><td>NA</td><td>NA</td><td>ISCGEM860856</td><td>ISCGEM</td><td>ISCGEM</td><td>ISCGEM</td><td>Automatic</td></tr>\n",
       "\t<tr><td>01/09/1965</td><td>13:32:50</td><td> 11.938</td><td> 126.427</td><td>Earthquake</td><td> 15.0</td><td>NA</td><td>NA</td><td>5.8</td><td>MW</td><td>⋯</td><td>NA</td><td>NA</td><td>NA</td><td>NA</td><td>NA</td><td>ISCGEM860890</td><td>ISCGEM</td><td>ISCGEM</td><td>ISCGEM</td><td>Automatic</td></tr>\n",
       "\t<tr><td>01/10/1965</td><td>13:36:32</td><td>-13.405</td><td> 166.629</td><td>Earthquake</td><td> 35.0</td><td>NA</td><td>NA</td><td>6.7</td><td>MW</td><td>⋯</td><td>NA</td><td>NA</td><td>NA</td><td>NA</td><td>NA</td><td>ISCGEM860922</td><td>ISCGEM</td><td>ISCGEM</td><td>ISCGEM</td><td>Automatic</td></tr>\n",
       "</tbody>\n",
       "</table>\n"
      ],
      "text/latex": [
       "A data.frame: 6 × 21\n",
       "\\begin{tabular}{r|lllllllllllllllllllll}\n",
       " Date & Time & Latitude & Longitude & Type & Depth & Depth.Error & Depth.Seismic.Stations & Magnitude & Magnitude.Type & Magnitude.Error & Magnitude.Seismic.Stations & Azimuthal.Gap & Horizontal.Distance & Horizontal.Error & Root.Mean.Square & ID & Source & Location.Source & Magnitude.Source & Status\\\\\n",
       " <fct> & <fct> & <dbl> & <dbl> & <fct> & <dbl> & <dbl> & <int> & <dbl> & <fct> & <dbl> & <int> & <dbl> & <dbl> & <dbl> & <dbl> & <fct> & <fct> & <fct> & <fct> & <fct>\\\\\n",
       "\\hline\n",
       "\t 01/02/1965 & 13:44:18 &  19.246 &  145.616 & Earthquake & 131.6 & NA & NA & 6.0 & MW & NA & NA & NA & NA & NA & NA & ISCGEM860706 & ISCGEM & ISCGEM & ISCGEM & Automatic\\\\\n",
       "\t 01/04/1965 & 11:29:49 &   1.863 &  127.352 & Earthquake &  80.0 & NA & NA & 5.8 & MW & NA & NA & NA & NA & NA & NA & ISCGEM860737 & ISCGEM & ISCGEM & ISCGEM & Automatic\\\\\n",
       "\t 01/05/1965 & 18:05:58 & -20.579 & -173.972 & Earthquake &  20.0 & NA & NA & 6.2 & MW & NA & NA & NA & NA & NA & NA & ISCGEM860762 & ISCGEM & ISCGEM & ISCGEM & Automatic\\\\\n",
       "\t 01/08/1965 & 18:49:43 & -59.076 &  -23.557 & Earthquake &  15.0 & NA & NA & 5.8 & MW & NA & NA & NA & NA & NA & NA & ISCGEM860856 & ISCGEM & ISCGEM & ISCGEM & Automatic\\\\\n",
       "\t 01/09/1965 & 13:32:50 &  11.938 &  126.427 & Earthquake &  15.0 & NA & NA & 5.8 & MW & NA & NA & NA & NA & NA & NA & ISCGEM860890 & ISCGEM & ISCGEM & ISCGEM & Automatic\\\\\n",
       "\t 01/10/1965 & 13:36:32 & -13.405 &  166.629 & Earthquake &  35.0 & NA & NA & 6.7 & MW & NA & NA & NA & NA & NA & NA & ISCGEM860922 & ISCGEM & ISCGEM & ISCGEM & Automatic\\\\\n",
       "\\end{tabular}\n"
      ],
      "text/markdown": [
       "\n",
       "A data.frame: 6 × 21\n",
       "\n",
       "| Date &lt;fct&gt; | Time &lt;fct&gt; | Latitude &lt;dbl&gt; | Longitude &lt;dbl&gt; | Type &lt;fct&gt; | Depth &lt;dbl&gt; | Depth.Error &lt;dbl&gt; | Depth.Seismic.Stations &lt;int&gt; | Magnitude &lt;dbl&gt; | Magnitude.Type &lt;fct&gt; | ⋯ ⋯ | Magnitude.Seismic.Stations &lt;int&gt; | Azimuthal.Gap &lt;dbl&gt; | Horizontal.Distance &lt;dbl&gt; | Horizontal.Error &lt;dbl&gt; | Root.Mean.Square &lt;dbl&gt; | ID &lt;fct&gt; | Source &lt;fct&gt; | Location.Source &lt;fct&gt; | Magnitude.Source &lt;fct&gt; | Status &lt;fct&gt; |\n",
       "|---|---|---|---|---|---|---|---|---|---|---|---|---|---|---|---|---|---|---|---|---|\n",
       "| 01/02/1965 | 13:44:18 |  19.246 |  145.616 | Earthquake | 131.6 | NA | NA | 6.0 | MW | ⋯ | NA | NA | NA | NA | NA | ISCGEM860706 | ISCGEM | ISCGEM | ISCGEM | Automatic |\n",
       "| 01/04/1965 | 11:29:49 |   1.863 |  127.352 | Earthquake |  80.0 | NA | NA | 5.8 | MW | ⋯ | NA | NA | NA | NA | NA | ISCGEM860737 | ISCGEM | ISCGEM | ISCGEM | Automatic |\n",
       "| 01/05/1965 | 18:05:58 | -20.579 | -173.972 | Earthquake |  20.0 | NA | NA | 6.2 | MW | ⋯ | NA | NA | NA | NA | NA | ISCGEM860762 | ISCGEM | ISCGEM | ISCGEM | Automatic |\n",
       "| 01/08/1965 | 18:49:43 | -59.076 |  -23.557 | Earthquake |  15.0 | NA | NA | 5.8 | MW | ⋯ | NA | NA | NA | NA | NA | ISCGEM860856 | ISCGEM | ISCGEM | ISCGEM | Automatic |\n",
       "| 01/09/1965 | 13:32:50 |  11.938 |  126.427 | Earthquake |  15.0 | NA | NA | 5.8 | MW | ⋯ | NA | NA | NA | NA | NA | ISCGEM860890 | ISCGEM | ISCGEM | ISCGEM | Automatic |\n",
       "| 01/10/1965 | 13:36:32 | -13.405 |  166.629 | Earthquake |  35.0 | NA | NA | 6.7 | MW | ⋯ | NA | NA | NA | NA | NA | ISCGEM860922 | ISCGEM | ISCGEM | ISCGEM | Automatic |\n",
       "\n"
      ],
      "text/plain": [
       "  Date       Time     Latitude Longitude Type       Depth Depth.Error\n",
       "1 01/02/1965 13:44:18  19.246   145.616  Earthquake 131.6 NA         \n",
       "2 01/04/1965 11:29:49   1.863   127.352  Earthquake  80.0 NA         \n",
       "3 01/05/1965 18:05:58 -20.579  -173.972  Earthquake  20.0 NA         \n",
       "4 01/08/1965 18:49:43 -59.076   -23.557  Earthquake  15.0 NA         \n",
       "5 01/09/1965 13:32:50  11.938   126.427  Earthquake  15.0 NA         \n",
       "6 01/10/1965 13:36:32 -13.405   166.629  Earthquake  35.0 NA         \n",
       "  Depth.Seismic.Stations Magnitude Magnitude.Type ⋯ Magnitude.Seismic.Stations\n",
       "1 NA                     6.0       MW             ⋯ NA                        \n",
       "2 NA                     5.8       MW             ⋯ NA                        \n",
       "3 NA                     6.2       MW             ⋯ NA                        \n",
       "4 NA                     5.8       MW             ⋯ NA                        \n",
       "5 NA                     5.8       MW             ⋯ NA                        \n",
       "6 NA                     6.7       MW             ⋯ NA                        \n",
       "  Azimuthal.Gap Horizontal.Distance Horizontal.Error Root.Mean.Square\n",
       "1 NA            NA                  NA               NA              \n",
       "2 NA            NA                  NA               NA              \n",
       "3 NA            NA                  NA               NA              \n",
       "4 NA            NA                  NA               NA              \n",
       "5 NA            NA                  NA               NA              \n",
       "6 NA            NA                  NA               NA              \n",
       "  ID           Source Location.Source Magnitude.Source Status   \n",
       "1 ISCGEM860706 ISCGEM ISCGEM          ISCGEM           Automatic\n",
       "2 ISCGEM860737 ISCGEM ISCGEM          ISCGEM           Automatic\n",
       "3 ISCGEM860762 ISCGEM ISCGEM          ISCGEM           Automatic\n",
       "4 ISCGEM860856 ISCGEM ISCGEM          ISCGEM           Automatic\n",
       "5 ISCGEM860890 ISCGEM ISCGEM          ISCGEM           Automatic\n",
       "6 ISCGEM860922 ISCGEM ISCGEM          ISCGEM           Automatic"
      ]
     },
     "metadata": {},
     "output_type": "display_data"
    }
   ],
   "source": [
    "# Read your data here; \n",
    "library(dplyr)\n",
    "library(ggplot2)\n",
    "library(lubridate)\n",
    "library(RColorBrewer)\n",
    "\n",
    "eqdata = read.csv('earthquakedata.csv')\n",
    "head(eqdata)\n"
   ]
  },
  {
   "cell_type": "code",
   "execution_count": 3,
   "metadata": {},
   "outputs": [],
   "source": [
    "mydata <- filter(eqdata,Type == 'Earthquake')"
   ]
  },
  {
   "cell_type": "code",
   "execution_count": 4,
   "metadata": {},
   "outputs": [],
   "source": [
    "mydata$Date <- as.Date(mydata$Date, format='%m/%d/%Y')\n",
    "mydata$Year <- year(mydata$Date)"
   ]
  },
  {
   "cell_type": "code",
   "execution_count": 5,
   "metadata": {},
   "outputs": [],
   "source": [
    "mydata$Decade <- mydata$Year - mydata$Year %% 10"
   ]
  },
  {
   "cell_type": "code",
   "execution_count": 6,
   "metadata": {},
   "outputs": [
    {
     "data": {
      "text/html": [
       "<table>\n",
       "<caption>A data.frame: 6 × 6</caption>\n",
       "<thead>\n",
       "\t<tr><th scope=col>Latitude</th><th scope=col>Longitude</th><th scope=col>Depth</th><th scope=col>Magnitude</th><th scope=col>Year</th><th scope=col>Decade</th></tr>\n",
       "\t<tr><th scope=col>&lt;dbl&gt;</th><th scope=col>&lt;dbl&gt;</th><th scope=col>&lt;dbl&gt;</th><th scope=col>&lt;dbl&gt;</th><th scope=col>&lt;dbl&gt;</th><th scope=col>&lt;dbl&gt;</th></tr>\n",
       "</thead>\n",
       "<tbody>\n",
       "\t<tr><td> 19.246</td><td> 145.616</td><td>131.6</td><td>6.0</td><td>1965</td><td>1960</td></tr>\n",
       "\t<tr><td>  1.863</td><td> 127.352</td><td> 80.0</td><td>5.8</td><td>1965</td><td>1960</td></tr>\n",
       "\t<tr><td>-20.579</td><td>-173.972</td><td> 20.0</td><td>6.2</td><td>1965</td><td>1960</td></tr>\n",
       "\t<tr><td>-59.076</td><td> -23.557</td><td> 15.0</td><td>5.8</td><td>1965</td><td>1960</td></tr>\n",
       "\t<tr><td> 11.938</td><td> 126.427</td><td> 15.0</td><td>5.8</td><td>1965</td><td>1960</td></tr>\n",
       "\t<tr><td>-13.405</td><td> 166.629</td><td> 35.0</td><td>6.7</td><td>1965</td><td>1960</td></tr>\n",
       "</tbody>\n",
       "</table>\n"
      ],
      "text/latex": [
       "A data.frame: 6 × 6\n",
       "\\begin{tabular}{r|llllll}\n",
       " Latitude & Longitude & Depth & Magnitude & Year & Decade\\\\\n",
       " <dbl> & <dbl> & <dbl> & <dbl> & <dbl> & <dbl>\\\\\n",
       "\\hline\n",
       "\t  19.246 &  145.616 & 131.6 & 6.0 & 1965 & 1960\\\\\n",
       "\t   1.863 &  127.352 &  80.0 & 5.8 & 1965 & 1960\\\\\n",
       "\t -20.579 & -173.972 &  20.0 & 6.2 & 1965 & 1960\\\\\n",
       "\t -59.076 &  -23.557 &  15.0 & 5.8 & 1965 & 1960\\\\\n",
       "\t  11.938 &  126.427 &  15.0 & 5.8 & 1965 & 1960\\\\\n",
       "\t -13.405 &  166.629 &  35.0 & 6.7 & 1965 & 1960\\\\\n",
       "\\end{tabular}\n"
      ],
      "text/markdown": [
       "\n",
       "A data.frame: 6 × 6\n",
       "\n",
       "| Latitude &lt;dbl&gt; | Longitude &lt;dbl&gt; | Depth &lt;dbl&gt; | Magnitude &lt;dbl&gt; | Year &lt;dbl&gt; | Decade &lt;dbl&gt; |\n",
       "|---|---|---|---|---|---|\n",
       "|  19.246 |  145.616 | 131.6 | 6.0 | 1965 | 1960 |\n",
       "|   1.863 |  127.352 |  80.0 | 5.8 | 1965 | 1960 |\n",
       "| -20.579 | -173.972 |  20.0 | 6.2 | 1965 | 1960 |\n",
       "| -59.076 |  -23.557 |  15.0 | 5.8 | 1965 | 1960 |\n",
       "|  11.938 |  126.427 |  15.0 | 5.8 | 1965 | 1960 |\n",
       "| -13.405 |  166.629 |  35.0 | 6.7 | 1965 | 1960 |\n",
       "\n"
      ],
      "text/plain": [
       "  Latitude Longitude Depth Magnitude Year Decade\n",
       "1  19.246   145.616  131.6 6.0       1965 1960  \n",
       "2   1.863   127.352   80.0 5.8       1965 1960  \n",
       "3 -20.579  -173.972   20.0 6.2       1965 1960  \n",
       "4 -59.076   -23.557   15.0 5.8       1965 1960  \n",
       "5  11.938   126.427   15.0 5.8       1965 1960  \n",
       "6 -13.405   166.629   35.0 6.7       1965 1960  "
      ]
     },
     "metadata": {},
     "output_type": "display_data"
    },
    {
     "data": {
      "text/html": [
       "<table>\n",
       "<caption>A data.frame: 6 × 6</caption>\n",
       "<thead>\n",
       "\t<tr><th></th><th scope=col>Latitude</th><th scope=col>Longitude</th><th scope=col>Depth</th><th scope=col>Magnitude</th><th scope=col>Year</th><th scope=col>Decade</th></tr>\n",
       "\t<tr><th></th><th scope=col>&lt;dbl&gt;</th><th scope=col>&lt;dbl&gt;</th><th scope=col>&lt;dbl&gt;</th><th scope=col>&lt;dbl&gt;</th><th scope=col>&lt;dbl&gt;</th><th scope=col>&lt;dbl&gt;</th></tr>\n",
       "</thead>\n",
       "<tbody>\n",
       "\t<tr><th scope=row>23227</th><td>38.3754</td><td>-118.8977</td><td>10.80</td><td>5.6</td><td>2016</td><td>2010</td></tr>\n",
       "\t<tr><th scope=row>23228</th><td>38.3917</td><td>-118.8941</td><td>12.30</td><td>5.6</td><td>2016</td><td>2010</td></tr>\n",
       "\t<tr><th scope=row>23229</th><td>38.3777</td><td>-118.8957</td><td> 8.80</td><td>5.5</td><td>2016</td><td>2010</td></tr>\n",
       "\t<tr><th scope=row>23230</th><td>36.9179</td><td> 140.4262</td><td>10.00</td><td>5.9</td><td>2016</td><td>2010</td></tr>\n",
       "\t<tr><th scope=row>23231</th><td>-9.0283</td><td> 118.6639</td><td>79.00</td><td>6.3</td><td>2016</td><td>2010</td></tr>\n",
       "\t<tr><th scope=row>23232</th><td>37.3973</td><td> 141.4103</td><td>11.94</td><td>5.5</td><td>2016</td><td>2010</td></tr>\n",
       "</tbody>\n",
       "</table>\n"
      ],
      "text/latex": [
       "A data.frame: 6 × 6\n",
       "\\begin{tabular}{r|llllll}\n",
       "  & Latitude & Longitude & Depth & Magnitude & Year & Decade\\\\\n",
       "  & <dbl> & <dbl> & <dbl> & <dbl> & <dbl> & <dbl>\\\\\n",
       "\\hline\n",
       "\t23227 & 38.3754 & -118.8977 & 10.80 & 5.6 & 2016 & 2010\\\\\n",
       "\t23228 & 38.3917 & -118.8941 & 12.30 & 5.6 & 2016 & 2010\\\\\n",
       "\t23229 & 38.3777 & -118.8957 &  8.80 & 5.5 & 2016 & 2010\\\\\n",
       "\t23230 & 36.9179 &  140.4262 & 10.00 & 5.9 & 2016 & 2010\\\\\n",
       "\t23231 & -9.0283 &  118.6639 & 79.00 & 6.3 & 2016 & 2010\\\\\n",
       "\t23232 & 37.3973 &  141.4103 & 11.94 & 5.5 & 2016 & 2010\\\\\n",
       "\\end{tabular}\n"
      ],
      "text/markdown": [
       "\n",
       "A data.frame: 6 × 6\n",
       "\n",
       "| <!--/--> | Latitude &lt;dbl&gt; | Longitude &lt;dbl&gt; | Depth &lt;dbl&gt; | Magnitude &lt;dbl&gt; | Year &lt;dbl&gt; | Decade &lt;dbl&gt; |\n",
       "|---|---|---|---|---|---|---|\n",
       "| 23227 | 38.3754 | -118.8977 | 10.80 | 5.6 | 2016 | 2010 |\n",
       "| 23228 | 38.3917 | -118.8941 | 12.30 | 5.6 | 2016 | 2010 |\n",
       "| 23229 | 38.3777 | -118.8957 |  8.80 | 5.5 | 2016 | 2010 |\n",
       "| 23230 | 36.9179 |  140.4262 | 10.00 | 5.9 | 2016 | 2010 |\n",
       "| 23231 | -9.0283 |  118.6639 | 79.00 | 6.3 | 2016 | 2010 |\n",
       "| 23232 | 37.3973 |  141.4103 | 11.94 | 5.5 | 2016 | 2010 |\n",
       "\n"
      ],
      "text/plain": [
       "      Latitude Longitude Depth Magnitude Year Decade\n",
       "23227 38.3754  -118.8977 10.80 5.6       2016 2010  \n",
       "23228 38.3917  -118.8941 12.30 5.6       2016 2010  \n",
       "23229 38.3777  -118.8957  8.80 5.5       2016 2010  \n",
       "23230 36.9179   140.4262 10.00 5.9       2016 2010  \n",
       "23231 -9.0283   118.6639 79.00 6.3       2016 2010  \n",
       "23232 37.3973   141.4103 11.94 5.5       2016 2010  "
      ]
     },
     "metadata": {},
     "output_type": "display_data"
    }
   ],
   "source": [
    "mydata1 <- subset(mydata, select=c(Latitude, Longitude, Depth, Magnitude,Year,Decade))\n",
    "head(mydata1)\n",
    "tail(mydata1)"
   ]
  },
  {
   "cell_type": "code",
   "execution_count": 7,
   "metadata": {},
   "outputs": [
    {
     "data": {
      "text/plain": [
       "    Latitude         Longitude           Depth          Magnitude    \n",
       " Min.   :-77.080   Min.   :-180.00   Min.   : -1.10   Min.   :5.500  \n",
       " 1st Qu.:-18.720   1st Qu.: -76.37   1st Qu.: 15.00   1st Qu.:5.600  \n",
       " Median : -3.680   Median : 106.35   Median : 33.00   Median :5.700  \n",
       " Mean   :  1.386   Mean   :  39.75   Mean   : 71.31   Mean   :5.883  \n",
       " 3rd Qu.: 24.968   3rd Qu.: 145.29   3rd Qu.: 54.80   3rd Qu.:6.000  \n",
       " Max.   : 86.005   Max.   : 180.00   Max.   :700.00   Max.   :9.100  \n",
       "                                                                     \n",
       "      Year          Decade    \n",
       " Min.   :1965   Min.   :1960  \n",
       " 1st Qu.:1981   1st Qu.:1980  \n",
       " Median :1994   Median :1990  \n",
       " Mean   :1993   Mean   :1988  \n",
       " 3rd Qu.:2005   3rd Qu.:2000  \n",
       " Max.   :2016   Max.   :2010  \n",
       " NA's   :3      NA's   :3     "
      ]
     },
     "metadata": {},
     "output_type": "display_data"
    },
    {
     "name": "stdout",
     "output_type": "stream",
     "text": [
      "'data.frame':\t23232 obs. of  6 variables:\n",
      " $ Latitude : num  19.25 1.86 -20.58 -59.08 11.94 ...\n",
      " $ Longitude: num  145.6 127.4 -174 -23.6 126.4 ...\n",
      " $ Depth    : num  132 80 20 15 15 ...\n",
      " $ Magnitude: num  6 5.8 6.2 5.8 5.8 6.7 5.9 6 6 5.8 ...\n",
      " $ Year     : num  1965 1965 1965 1965 1965 ...\n",
      " $ Decade   : num  1960 1960 1960 1960 1960 1960 1960 1960 1960 1960 ...\n"
     ]
    }
   ],
   "source": [
    "summary(mydata1)\n",
    "str(mydata1)"
   ]
  },
  {
   "cell_type": "code",
   "execution_count": 8,
   "metadata": {},
   "outputs": [
    {
     "data": {
      "text/html": [
       "<table>\n",
       "<caption>A data.frame: 6 × 6</caption>\n",
       "<thead>\n",
       "\t<tr><th scope=col>Latitude</th><th scope=col>Longitude</th><th scope=col>Depth</th><th scope=col>Magnitude</th><th scope=col>Year</th><th scope=col>Decade</th></tr>\n",
       "\t<tr><th scope=col>&lt;dbl&gt;</th><th scope=col>&lt;dbl&gt;</th><th scope=col>&lt;dbl&gt;</th><th scope=col>&lt;dbl&gt;</th><th scope=col>&lt;dbl&gt;</th><th scope=col>&lt;dbl&gt;</th></tr>\n",
       "</thead>\n",
       "<tbody>\n",
       "\t<tr><td> 19.246</td><td> 145.616</td><td>131.6</td><td>6.0</td><td>1965</td><td>1960</td></tr>\n",
       "\t<tr><td>  1.863</td><td> 127.352</td><td> 80.0</td><td>5.8</td><td>1965</td><td>1960</td></tr>\n",
       "\t<tr><td>-20.579</td><td>-173.972</td><td> 20.0</td><td>6.2</td><td>1965</td><td>1960</td></tr>\n",
       "\t<tr><td>-59.076</td><td> -23.557</td><td> 15.0</td><td>5.8</td><td>1965</td><td>1960</td></tr>\n",
       "\t<tr><td> 11.938</td><td> 126.427</td><td> 15.0</td><td>5.8</td><td>1965</td><td>1960</td></tr>\n",
       "\t<tr><td>-13.405</td><td> 166.629</td><td> 35.0</td><td>6.7</td><td>1965</td><td>1960</td></tr>\n",
       "</tbody>\n",
       "</table>\n"
      ],
      "text/latex": [
       "A data.frame: 6 × 6\n",
       "\\begin{tabular}{r|llllll}\n",
       " Latitude & Longitude & Depth & Magnitude & Year & Decade\\\\\n",
       " <dbl> & <dbl> & <dbl> & <dbl> & <dbl> & <dbl>\\\\\n",
       "\\hline\n",
       "\t  19.246 &  145.616 & 131.6 & 6.0 & 1965 & 1960\\\\\n",
       "\t   1.863 &  127.352 &  80.0 & 5.8 & 1965 & 1960\\\\\n",
       "\t -20.579 & -173.972 &  20.0 & 6.2 & 1965 & 1960\\\\\n",
       "\t -59.076 &  -23.557 &  15.0 & 5.8 & 1965 & 1960\\\\\n",
       "\t  11.938 &  126.427 &  15.0 & 5.8 & 1965 & 1960\\\\\n",
       "\t -13.405 &  166.629 &  35.0 & 6.7 & 1965 & 1960\\\\\n",
       "\\end{tabular}\n"
      ],
      "text/markdown": [
       "\n",
       "A data.frame: 6 × 6\n",
       "\n",
       "| Latitude &lt;dbl&gt; | Longitude &lt;dbl&gt; | Depth &lt;dbl&gt; | Magnitude &lt;dbl&gt; | Year &lt;dbl&gt; | Decade &lt;dbl&gt; |\n",
       "|---|---|---|---|---|---|\n",
       "|  19.246 |  145.616 | 131.6 | 6.0 | 1965 | 1960 |\n",
       "|   1.863 |  127.352 |  80.0 | 5.8 | 1965 | 1960 |\n",
       "| -20.579 | -173.972 |  20.0 | 6.2 | 1965 | 1960 |\n",
       "| -59.076 |  -23.557 |  15.0 | 5.8 | 1965 | 1960 |\n",
       "|  11.938 |  126.427 |  15.0 | 5.8 | 1965 | 1960 |\n",
       "| -13.405 |  166.629 |  35.0 | 6.7 | 1965 | 1960 |\n",
       "\n"
      ],
      "text/plain": [
       "  Latitude Longitude Depth Magnitude Year Decade\n",
       "1  19.246   145.616  131.6 6.0       1965 1960  \n",
       "2   1.863   127.352   80.0 5.8       1965 1960  \n",
       "3 -20.579  -173.972   20.0 6.2       1965 1960  \n",
       "4 -59.076   -23.557   15.0 5.8       1965 1960  \n",
       "5  11.938   126.427   15.0 5.8       1965 1960  \n",
       "6 -13.405   166.629   35.0 6.7       1965 1960  "
      ]
     },
     "metadata": {},
     "output_type": "display_data"
    }
   ],
   "source": [
    "mydata1 <- na.omit(mydata1)\n",
    "head(mydata1)"
   ]
  },
  {
   "cell_type": "code",
   "execution_count": 9,
   "metadata": {},
   "outputs": [],
   "source": [
    "# Clean it up, reformat it, filter it, sort it, group it, etc."
   ]
  },
  {
   "cell_type": "code",
   "execution_count": 10,
   "metadata": {},
   "outputs": [
    {
     "data": {
      "text/html": [
       "<table>\n",
       "<caption>A grouped_df: 6 × 3</caption>\n",
       "<thead>\n",
       "\t<tr><th scope=col>Year</th><th scope=col>Decade</th><th scope=col>ave_mag</th></tr>\n",
       "\t<tr><th scope=col>&lt;dbl&gt;</th><th scope=col>&lt;dbl&gt;</th><th scope=col>&lt;dbl&gt;</th></tr>\n",
       "</thead>\n",
       "<tbody>\n",
       "\t<tr><td>1965</td><td>1960</td><td>6.014159</td></tr>\n",
       "\t<tr><td>1966</td><td>1960</td><td>6.042275</td></tr>\n",
       "\t<tr><td>1967</td><td>1960</td><td>6.003922</td></tr>\n",
       "\t<tr><td>1968</td><td>1960</td><td>6.081848</td></tr>\n",
       "\t<tr><td>1969</td><td>1960</td><td>6.009938</td></tr>\n",
       "\t<tr><td>1970</td><td>1970</td><td>6.037209</td></tr>\n",
       "</tbody>\n",
       "</table>\n"
      ],
      "text/latex": [
       "A grouped_df: 6 × 3\n",
       "\\begin{tabular}{r|lll}\n",
       " Year & Decade & ave\\_mag\\\\\n",
       " <dbl> & <dbl> & <dbl>\\\\\n",
       "\\hline\n",
       "\t 1965 & 1960 & 6.014159\\\\\n",
       "\t 1966 & 1960 & 6.042275\\\\\n",
       "\t 1967 & 1960 & 6.003922\\\\\n",
       "\t 1968 & 1960 & 6.081848\\\\\n",
       "\t 1969 & 1960 & 6.009938\\\\\n",
       "\t 1970 & 1970 & 6.037209\\\\\n",
       "\\end{tabular}\n"
      ],
      "text/markdown": [
       "\n",
       "A grouped_df: 6 × 3\n",
       "\n",
       "| Year &lt;dbl&gt; | Decade &lt;dbl&gt; | ave_mag &lt;dbl&gt; |\n",
       "|---|---|---|\n",
       "| 1965 | 1960 | 6.014159 |\n",
       "| 1966 | 1960 | 6.042275 |\n",
       "| 1967 | 1960 | 6.003922 |\n",
       "| 1968 | 1960 | 6.081848 |\n",
       "| 1969 | 1960 | 6.009938 |\n",
       "| 1970 | 1970 | 6.037209 |\n",
       "\n"
      ],
      "text/plain": [
       "  Year Decade ave_mag \n",
       "1 1965 1960   6.014159\n",
       "2 1966 1960   6.042275\n",
       "3 1967 1960   6.003922\n",
       "4 1968 1960   6.081848\n",
       "5 1969 1960   6.009938\n",
       "6 1970 1970   6.037209"
      ]
     },
     "metadata": {},
     "output_type": "display_data"
    }
   ],
   "source": [
    "#Magnitude ave by year\n",
    "yearly_mag <- mydata %>%\n",
    "group_by(Year, Decade) %>%\n",
    "summarize(ave_mag = mean(Magnitude))\n",
    "\n",
    "head(yearly_mag)"
   ]
  },
  {
   "cell_type": "code",
   "execution_count": 11,
   "metadata": {},
   "outputs": [
    {
     "data": {
      "text/html": [
       "<table>\n",
       "<caption>A tibble: 6 × 2</caption>\n",
       "<thead>\n",
       "\t<tr><th scope=col>Magnitude</th><th scope=col>ave_depth</th></tr>\n",
       "\t<tr><th scope=col>&lt;dbl&gt;</th><th scope=col>&lt;dbl&gt;</th></tr>\n",
       "</thead>\n",
       "<tbody>\n",
       "\t<tr><td>5.50</td><td>71.1684</td></tr>\n",
       "\t<tr><td>5.51</td><td> 3.2920</td></tr>\n",
       "\t<tr><td>5.52</td><td> 6.0000</td></tr>\n",
       "\t<tr><td>5.53</td><td> 9.6150</td></tr>\n",
       "\t<tr><td>5.55</td><td> 6.0000</td></tr>\n",
       "\t<tr><td>5.58</td><td> 9.0830</td></tr>\n",
       "</tbody>\n",
       "</table>\n"
      ],
      "text/latex": [
       "A tibble: 6 × 2\n",
       "\\begin{tabular}{r|ll}\n",
       " Magnitude & ave\\_depth\\\\\n",
       " <dbl> & <dbl>\\\\\n",
       "\\hline\n",
       "\t 5.50 & 71.1684\\\\\n",
       "\t 5.51 &  3.2920\\\\\n",
       "\t 5.52 &  6.0000\\\\\n",
       "\t 5.53 &  9.6150\\\\\n",
       "\t 5.55 &  6.0000\\\\\n",
       "\t 5.58 &  9.0830\\\\\n",
       "\\end{tabular}\n"
      ],
      "text/markdown": [
       "\n",
       "A tibble: 6 × 2\n",
       "\n",
       "| Magnitude &lt;dbl&gt; | ave_depth &lt;dbl&gt; |\n",
       "|---|---|\n",
       "| 5.50 | 71.1684 |\n",
       "| 5.51 |  3.2920 |\n",
       "| 5.52 |  6.0000 |\n",
       "| 5.53 |  9.6150 |\n",
       "| 5.55 |  6.0000 |\n",
       "| 5.58 |  9.0830 |\n",
       "\n"
      ],
      "text/plain": [
       "  Magnitude ave_depth\n",
       "1 5.50      71.1684  \n",
       "2 5.51       3.2920  \n",
       "3 5.52       6.0000  \n",
       "4 5.53       9.6150  \n",
       "5 5.55       6.0000  \n",
       "6 5.58       9.0830  "
      ]
     },
     "metadata": {},
     "output_type": "display_data"
    }
   ],
   "source": [
    "#Depth Trends - magnitue v. depth\n",
    "depth_trends <- mydata %>%\n",
    "group_by(Magnitude) %>%\n",
    "summarize(ave_depth = (mean(Depth)))\n",
    "\n",
    "head(depth_trends)"
   ]
  },
  {
   "cell_type": "code",
   "execution_count": 20,
   "metadata": {},
   "outputs": [
    {
     "data": {
      "image/png": "[encoded data removed]",
      "text/plain": [
       "plot without title"
      ]
     },
     "metadata": {},
     "output_type": "display_data"
    }
   ],
   "source": [
    "# Create your visualizations and save them as png files, then prepare your final pdf document elsewhere\n",
    "\n",
    "#png(filename=\"MagByDecade.png\")\n",
    "\n",
    "ggplot(mydata1) + geom_boxplot(aes(y=Magnitude), fill = 'lightblue') + facet_wrap(~Decade) + \n",
    "\n",
    "theme(strip.background = element_rect(colour = \"black\", fill = \"white\"), panel.background=element_rect(fill='white'),\n",
    "panel.grid.major = element_line(colour = \"lightgray\"), plot.title = element_text(hjust = 0.5, face='bold'),\n",
    "     plot.subtitle = element_text(hjust=0.5)) +\n",
    "\n",
    "scale_y_log10() +\n",
    "ggtitle(label = \"Magnitude Trends by Decade\", subtitle = '1960 - 2010') + \n",
    "ylab('Earthquake Magnitude') + \n",
    "labs(caption = 'Average earthquake magnitude per decade relatively stable with the highest average magnitude occuring in 1960. \n",
    "Major outliers noted in 1960, 2000 and 2010.')\n",
    "\n",
    "\n",
    "# comment this out to see the plot in the notebook\n",
    "#dev.off()"
   ]
  },
  {
   "cell_type": "code",
   "execution_count": 13,
   "metadata": {},
   "outputs": [
    {
     "name": "stderr",
     "output_type": "stream",
     "text": [
      "`geom_smooth()` using method = 'loess' and formula 'y ~ x'\n"
     ]
    },
    {
     "data": {
      "text/html": [
       "<strong>png:</strong> 2"
      ],
      "text/latex": [
       "\\textbf{png:} 2"
      ],
      "text/markdown": [
       "**png:** 2"
      ],
      "text/plain": [
       "png \n",
       "  2 "
      ]
     },
     "metadata": {},
     "output_type": "display_data"
    }
   ],
   "source": [
    "png(filename=\"MagvDepth.png\")\n",
    "\n",
    "ggplot(depth_trends) + \n",
    "geom_point(aes(x=Magnitude, y=ave_depth, alpha=0.2)) +\n",
    "geom_smooth(aes(x=Magnitude, y=ave_depth), color='lightblue', se=FALSE) +\n",
    "\n",
    "theme(strip.background = element_rect(colour = \"black\", fill = \"white\"), panel.background=element_rect(fill='white'),\n",
    "panel.grid.major = element_line(colour = \"lightgrey\"), plot.title = element_text(hjust = 0.5, face='bold')) +\n",
    "guides(alpha = 'none') +\n",
    "\n",
    "ggtitle(\"Relationship Between Earthquake Magnitude and Depth\") +\n",
    "xlab('Magnitude') + ylab('Depth (km)') +\n",
    "labs(caption = 'No clear relationship can be observed between earthquakes of lower relative magnitude (5-8).\n",
    "Highest magnitude earthquakes observed (8-9), while more rare, seem to occur at depths closer to surface more often.')\n",
    "\n",
    "dev.off()"
   ]
  },
  {
   "cell_type": "code",
   "execution_count": 58,
   "metadata": {},
   "outputs": [
    {
     "name": "stderr",
     "output_type": "stream",
     "text": [
      "Warning message:\n",
      "“Ignoring unknown aesthetics: x, y”"
     ]
    },
    {
     "data": {
      "text/html": [
       "<strong>png:</strong> 2"
      ],
      "text/latex": [
       "\\textbf{png:} 2"
      ],
      "text/markdown": [
       "**png:** 2"
      ],
      "text/plain": [
       "png \n",
       "  2 "
      ]
     },
     "metadata": {},
     "output_type": "display_data"
    }
   ],
   "source": [
    "png(filename=\"Locations.png\")\n",
    "\n",
    "library(ggmap) \n",
    "world <- map_data(\"world\")\n",
    "\n",
    "ggplot() + \n",
    "geom_map(data=world, map=world, aes(long, lat, map_id=region), color='black', fill='#f2f2f2') +\n",
    "geom_point(data=mydata1, aes(x=Longitude, y=Latitude, color=Magnitude, alpha=0.1)) +\n",
    "\n",
    "theme(legend.position='bottom', panel.background=element_rect(fill='white'), \n",
    "      plot.title = element_text(hjust = 0.5, face = 'bold'), plot.subtitle=element_text(hjust=0.5)) + \n",
    "guides(alpha = 'none') + coord_equal() +\n",
    "ggtitle('Locations of Recorded High Magnitude Earthquakes', subtitle= '1965-2007') + \n",
    "xlab(\"Longitude\") + ylab(\"Latititude\") +\n",
    "\n",
    "scale_color_gradient(low = \"lightblue\", high = \"darkblue\")\n",
    "\n",
    "dev.off()"
   ]
  },
  {
   "cell_type": "code",
   "execution_count": 15,
   "metadata": {},
   "outputs": [
    {
     "name": "stderr",
     "output_type": "stream",
     "text": [
      "Warning message:\n",
      "“Ignoring unknown aesthetics: x, y”"
     ]
    },
    {
     "data": {
      "text/html": [
       "<strong>png:</strong> 2"
      ],
      "text/latex": [
       "\\textbf{png:} 2"
      ],
      "text/markdown": [
       "**png:** 2"
      ],
      "text/plain": [
       "png \n",
       "  2 "
      ]
     },
     "metadata": {},
     "output_type": "display_data"
    }
   ],
   "source": [
    "png(filename='Density.png')\n",
    "\n",
    "library(ggmap) \n",
    "world <- map_data(\"world\")\n",
    "\n",
    "ggplot() + \n",
    "geom_map(data=world, map=world, aes(long, lat, map_id=region), color='black', fill='#f2f2f2') +\n",
    "geom_density2d(data=mydata1, aes(x=Longitude, y=Latitude), color = 'darkblue') +\n",
    "stat_density2d(data=mydata1, aes(x=Longitude, y=Latitude, fill=..level.., alpha=..level..), geom='polygon') +\n",
    "scale_fill_gradient(low = \"lightblue\", high = \"darkblue\") +\n",
    "\n",
    "theme(legend.position='none', panel.background=element_rect(fill='white'), \n",
    "      plot.title = element_text(hjust = 0.5, face='bold'), plot.subtitle=element_text(hjust=0.5)) + \n",
    "guides(alpha = 'none') + coord_equal() +\n",
    "ggtitle('Density of Recorded High Magnitude Earthquakes', subtitle= '1965-2007') + \n",
    "xlab(\"Longitude\") + ylab(\"Latititude\") +\n",
    "labs(caption = 'Highest density earthquakes typically recorded where the Philippine Plate meets several others \n",
    "and in parts of the area known as the \"Ring of Fire.\"')\n",
    "\n",
    "dev.off()"
   ]
  },
  {
   "cell_type": "markdown",
   "metadata": {},
   "source": [
    "---\n",
    "\n",
    "# Common Pitfalls / Inefficiencies\n",
    "\n",
    "**Pay attention to the following in your visualizations and stories:**\n",
    "\n",
    "\n",
    "### Color coordinate among plots so that the same data attributes have the same color in all plots\n",
    "\n",
    "you can do that by creating a manual palette and use it everywhere to make sure same color is always assigned to the same attribute value. \n",
    "\n",
    "\n",
    "### Perceptual grouping is important! group and/or order values\n",
    "\n",
    "In a bar chart, **order the axes** by time, value, etc. to make comparisons more intuitive. \n",
    "\n",
    "Pie chart: order wedges. \n",
    "\n",
    "In a bubble map, if you want to show trends, use grouping variable to **connect** bubbles, etc. \n",
    "\n",
    "\n",
    "### No lengthy text in x axis\n",
    "\n",
    "Flip the axes of a bar chart so that string values (text) are readable on the y axis left to right, \n",
    "\n",
    "**or** \n",
    "\n",
    "at least put them slanted in x axis for better readibility. \n",
    "\n",
    "\n",
    "### Plot only those that tell an obvious story\n",
    "\n",
    "**No crowded** scatter plots with useless linear regression lines that don't tell anything. Look at alternative plots to tell your story.\n",
    "\n",
    "\n",
    "### If you have too many classes (discrete variables/categories), try to group them \n",
    "\n",
    "Instead of giving a color to each of them, you can put them in meaningful groups and color code.\n",
    "\n",
    "For sequential variables, you can do the same thing by binning. \n",
    "\n",
    "Stepped color palettes may be more useful than smooth sequential palettes (especially for comparison in choropleth maps).\n",
    "\n",
    "You can group/cluster data into meaningful chunks and display those as bubble charts, networks, geographical regions, etc. \n",
    "\n",
    "Do NOT dump all the data in the plot unless there is a CLEAR pattern/clustering to it that can be perceived immediately. \n",
    "\n",
    "\n",
    "### ANNOTATE!\n",
    "\n",
    "**Tell** your audience what they are supposed to see. \n",
    "\n",
    "Use meaningful titles with a message, not dry titles. \n",
    "\n",
    "Use nice and concise axis labels. \n",
    "\n",
    "Use text annotations (look at the **examples in the lab notebook**).\n",
    "\n",
    "\n",
    "\n",
    "### THEMING!\n",
    "\n",
    "**Good looking** charts are more **convincing**. \n",
    "\n",
    "**Almost NEVER use the default color palette, default theme, default font.**\n",
    "\n",
    "\n",
    "Use a subtle color scheme, nice fonts, interesting glyphs, etc. to make your charts look more **sophisticated**. \n",
    "\n",
    "\n",
    "\n",
    "### Use space wisely!\n",
    "\n",
    "**Balance the plots** to use space effectively.\n",
    "\n",
    "Pay attention to data-ink ratio.\n",
    "\n",
    "HAVE A FLOW left to right, top to bottom. \n",
    "\n",
    "\n"
   ]
  },
  {
   "cell_type": "code",
   "execution_count": null,
   "metadata": {},
   "outputs": [],
   "source": []
  }
 ],
 "metadata": {
  "kernelspec": {
   "display_name": "R",
   "language": "R",
   "name": "ir"
  },
  "language_info": {
   "codemirror_mode": "r",
   "file_extension": ".r",
   "mimetype": "text/x-r-source",
   "name": "R",
   "pygments_lexer": "r",
   "version": "3.5.1"
  }
 },
 "nbformat": 4,
 "nbformat_minor": 2
}
