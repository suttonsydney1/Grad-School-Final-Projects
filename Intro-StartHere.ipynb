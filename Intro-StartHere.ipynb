{
 "cells": [
  {
   "cell_type": "markdown",
   "metadata": {},
   "source": [
    "# Milestone 4 for Group 7\n",
    "\n",
    "#### Background:\n",
    "The (COVID-19) pandemic is an ongoing pandemic associated with coronavirus disease 2019 (COVID-19) is caused by severe acute respiratory syndrome coronavirus 2 (SARS-CoV-2).  It is a pandemic unlike anything seen before for our modern society. It has impacted almost every aspect of our day to day lives. One area of particular interest is its impact on our children, particularly as it relates to education. In 2020, most governments temporarily closed educational institutions or switched to online learning. Close to half the world’s students are still affected by partial or full school closures.  One statistic of particular concern is that it is expected that over 100 million additional children will fall below the minimum proficiency level in reading as a result of the pandemic.\n",
    "\n",
    "For California specifically, various COVID-19 policies were implemented at the state level, county level, and district level with schools following the district guidelines.  In order to look at how students were affected by the pandemic and these policies, our group looked at the changes to enrollment in the California educational system to assess trends relating to different demographics and location.  The main data we used was taken from the California Department of Education (https://www.cde.ca.gov/ds/ad/filesenr.asp).\n",
    "\n",
    "#### Descrption:\n",
    "In these notebooks we perform data carpentry and ingest as well as data discovery and exploration. \n",
    "\n",
    "Our dataset is California school enrollment for K-12 from the years 2015-2021, taken from California Department of Education on the Census Day Enrollment by School (https://www.cde.ca.gov/ds/ad/filesenr.asp).  We downloaded each year as a text file pasted the data into Excel, and saved it as a .csv (for example \"enr20\" on the website for 2020-2021 data saved as 2021.csv).  Each file was uploaded to the europsa.dsa.missouri.edu website into the /casestudy_data/group_7/ folder.\n",
    "\n",
    "We load, look at the data itself holistically, and then dive into the data to begin to understand how the COVID-19 pandemic affected enrollment of schools in California to look for trends, to start to tell our data story.  \n",
    "\n",
    "We merged California public school data (K-12) from 2015-2021 into one dataframe, and added 'Year' as a variable. We examined summary statistics, variable classes, as well as checked for missing values. We also began to explore the dataset by looking at how enrollment may have changed across time (e.g., total enrollment and percentage change), and for different groups (e.g., gender, ethnicity, and grade). Some plots to help visualize trends were created.\n",
    "\n",
    "By completing data exploration, specifically in creating graphics and spreadsheets by different groups and demographics, this allows us to understand what were the most and least affected groups of individuals within the California school district regarding enrollment in 2021 and as compared to the previous 6 years. \n",
    "\n",
    "Below is a list of sections that will map to the notebook titles.  Each of them should be ran in order as listed below, with the last notebook (The Graphics for Presentation) being repeated code for easy access to graphics for use in the presentation.\n",
    "\n",
    "Our group is presenting to the \"California Board of Education\" as our audience, with both a PowerPoint and recorded voice track as our medium."
   ]
  },
  {
   "cell_type": "markdown",
   "metadata": {},
   "source": [
    "# List of sections\n",
    "\n",
    "## Section 1: Data carpentry and ingest\n",
    "\n",
    "## Section 2: Data discovery and exploration\n",
    "\n",
    "### Section 2A: Initial Discovery\n",
    "\n",
    "### Section 2B: Total Breakdown\n",
    "\n",
    "### Section 2C: Ethnic Breakdown\n",
    "\n",
    "### Section 2D: Gender Breakdown\n",
    "\n",
    "### Section 2E: Grade Breakdown\n",
    "\n",
    "### Section 2F: District Breakdown\n",
    "\n",
    "### Section 2G: County Breakdown\n",
    "\n",
    "### Section 2H: Geospatial Analysis\n",
    "\n",
    "### Section 3: Bivariate and Multivariate Analysis\n",
    "\n",
    "### The Graphics for Presentation (repeated code for easy access to graphics for use in the presentation)\n"
   ]
  },
  {
   "cell_type": "code",
   "execution_count": null,
   "metadata": {},
   "outputs": [],
   "source": []
  },
  {
   "cell_type": "code",
   "execution_count": null,
   "metadata": {},
   "outputs": [],
   "source": []
  }
 ],
 "metadata": {
  "kernelspec": {
   "display_name": "R",
   "language": "R",
   "name": "ir"
  },
  "language_info": {
   "codemirror_mode": "r",
   "file_extension": ".r",
   "mimetype": "text/x-r-source",
   "name": "R",
   "pygments_lexer": "r",
   "version": "3.5.1"
  }
 },
 "nbformat": 4,
 "nbformat_minor": 2
}
