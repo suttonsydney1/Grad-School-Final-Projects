{
 "cells": [
  {
   "cell_type": "markdown",
   "metadata": {},
   "source": [
    "## Section 2: Data discovery and exploration\n",
    "\n",
    "This section does data discovery to look at the data itself and understand it from a larger persepctive before diving into specifics of the data.\n",
    "\n",
    "This section also dives into the data in order to better understand how COVID may have affected enrollment of schools in California. We look for trends in order to start to tell our data story and answer our questions.  \n",
    "\n",
    "We complete data exploration by creating graphics and spreadsheets by different groups in order to understand where the most and least affected groups of individuals were within the California school district. \n",
    "\n",
    "### Section 2A: Initial discovery\n",
    "\n",
    "This section begins with initially looking at the dataframe itself to include how big it is, if it needs any additional data carpentry by checking for na's, summary of the columns to understand initial ideas of what is in the columns (min, max, mean, etc.), look at some unique values, filter the data to better understand what a single category of ethnic and school looks like over the years to begin to understand how the data could be trended, and examine the class of the variables \n",
    "\n"
   ]
  },
  {
   "cell_type": "code",
   "execution_count": 1,
   "metadata": {},
   "outputs": [
    {
     "name": "stderr",
     "output_type": "stream",
     "text": [
      "\n",
      "Attaching package: ‘dplyr’\n",
      "\n",
      "The following objects are masked from ‘package:stats’:\n",
      "\n",
      "    filter, lag\n",
      "\n",
      "The following objects are masked from ‘package:base’:\n",
      "\n",
      "    intersect, setdiff, setequal, union\n",
      "\n"
     ]
    }
   ],
   "source": [
    "#load libraries needed for the notebook\n",
    "library(dplyr)\n",
    "library(tidyr)\n",
    "library(ggplot2)\n"
   ]
  },
  {
   "cell_type": "code",
   "execution_count": 2,
   "metadata": {},
   "outputs": [],
   "source": [
    "#Load in the dataframe from our saved .Rda file\n",
    "\n",
    "df <- readRDS(file=\"Group7DataFrame.Rda\")"
   ]
  },
  {
   "cell_type": "code",
   "execution_count": 3,
   "metadata": {},
   "outputs": [
    {
     "data": {
      "text/html": [
       "912401"
      ],
      "text/latex": [
       "912401"
      ],
      "text/markdown": [
       "912401"
      ],
      "text/plain": [
       "[1] 912401"
      ]
     },
     "metadata": {},
     "output_type": "display_data"
    }
   ],
   "source": [
    "nrow(df)"
   ]
  },
  {
   "cell_type": "code",
   "execution_count": 4,
   "metadata": {},
   "outputs": [],
   "source": [
    "df$Year = as.factor(df$Year)"
   ]
  },
  {
   "cell_type": "code",
   "execution_count": 5,
   "metadata": {},
   "outputs": [
    {
     "data": {
      "text/plain": [
       "    CDS_CODE                    COUNTY                        DISTRICT     \n",
       " Min.   :1.100e+12   Los Angeles   :189443   Los Angeles Unified  : 76820  \n",
       " 1st Qu.:1.965e+13   San Diego     : 75173   San Diego Unified    : 22642  \n",
       " Median :3.167e+13   Orange        : 60572   San Francisco Unified: 12807  \n",
       " Mean   :2.956e+13   San Bernardino: 53700   Oakland Unified      : 11682  \n",
       " 3rd Qu.:3.776e+13   Riverside     : 49707   Fresno Unified       : 10072  \n",
       " Max.   :5.873e+13   Santa Clara   : 41886   Long Beach Unified   :  9786  \n",
       "                     (Other)       :441920   (Other)              :768592  \n",
       "                             SCHOOL           ETHNIC      GENDER    \n",
       " Nonpublic, Nonsectarian Schools: 13510   Min.   :0.000   F:448558  \n",
       " Lincoln Elementary             :  2831   1st Qu.:2.000   M:462763  \n",
       " District Office                :  2667   Median :5.000   X:  1080  \n",
       " Washington Elementary          :  2389   Mean   :4.672             \n",
       " Jefferson Elementary           :  2014   3rd Qu.:7.000             \n",
       " Roosevelt Elementary           :  1915   Max.   :9.000             \n",
       " (Other)                        :887075                             \n",
       "      KDGN              GR_1              GR_2              GR_3        \n",
       " Min.   :  0.000   Min.   :  0.000   Min.   :  0.000   Min.   :  0.000  \n",
       " 1st Qu.:  0.000   1st Qu.:  0.000   1st Qu.:  0.000   1st Qu.:  0.000  \n",
       " Median :  0.000   Median :  0.000   Median :  0.000   Median :  0.000  \n",
       " Mean   :  3.968   Mean   :  3.442   Mean   :  3.474   Mean   :  3.529  \n",
       " 3rd Qu.:  2.000   3rd Qu.:  2.000   3rd Qu.:  2.000   3rd Qu.:  2.000  \n",
       " Max.   :400.000   Max.   :709.000   Max.   :458.000   Max.   :417.000  \n",
       "                                                                        \n",
       "      GR_4              GR_5              GR_6              GR_7        \n",
       " Min.   :  0.000   Min.   :  0.000   Min.   :  0.000   Min.   :  0.000  \n",
       " 1st Qu.:  0.000   1st Qu.:  0.000   1st Qu.:  0.000   1st Qu.:  0.000  \n",
       " Median :  0.000   Median :  0.000   Median :  0.000   Median :  0.000  \n",
       " Mean   :  3.564   Mean   :  3.589   Mean   :  3.596   Mean   :  3.623  \n",
       " 3rd Qu.:  2.000   3rd Qu.:  2.000   3rd Qu.:  1.000   3rd Qu.:  0.000  \n",
       " Max.   :439.000   Max.   :386.000   Max.   :382.000   Max.   :382.000  \n",
       "                                                                        \n",
       "      GR_8            UNGR_ELM             GR_9              GR_10         \n",
       " Min.   :  0.000   Min.   : 0.00000   Min.   :   0.000   Min.   :   0.000  \n",
       " 1st Qu.:  0.000   1st Qu.: 0.00000   1st Qu.:   0.000   1st Qu.:   0.000  \n",
       " Median :  0.000   Median : 0.00000   Median :   0.000   Median :   0.000  \n",
       " Mean   :  3.632   Mean   : 0.00175   Mean   :   3.793   Mean   :   3.753  \n",
       " 3rd Qu.:  0.000   3rd Qu.: 0.00000   3rd Qu.:   0.000   3rd Qu.:   0.000  \n",
       " Max.   :386.000   Max.   :38.00000   Max.   :1074.000   Max.   :1401.000  \n",
       "                                                                           \n",
       "     GR_11             GR_12           UNGR_SEC          ENR_TOTAL      \n",
       " Min.   :  0.000   Min.   :  0.00   Min.   : 0.00000   Min.   :   0.00  \n",
       " 1st Qu.:  0.000   1st Qu.:  0.00   1st Qu.: 0.00000   1st Qu.:   2.00  \n",
       " Median :  0.000   Median :  0.00   Median : 0.00000   Median :   8.00  \n",
       " Mean   :  3.663   Mean   :  3.76   Mean   : 0.02867   Mean   :  47.42  \n",
       " 3rd Qu.:  0.000   3rd Qu.:  0.00   3rd Qu.: 0.00000   3rd Qu.:  39.00  \n",
       " Max.   :620.000   Max.   :525.00   Max.   :80.00000   Max.   :4154.00  \n",
       "                                                                        \n",
       "     ADULT            Year       \n",
       " Min.   : 0.00000   2015:129354  \n",
       " 1st Qu.: 0.00000   2016:129717  \n",
       " Median : 0.00000   2017:129813  \n",
       " Mean   : 0.00462   2018:130194  \n",
       " 3rd Qu.: 0.00000   2019:130220  \n",
       " Max.   :79.00000   2020:131616  \n",
       "                    2021:131487  "
      ]
     },
     "metadata": {},
     "output_type": "display_data"
    }
   ],
   "source": [
    "#summarize the data\n",
    "summary(df)"
   ]
  },
  {
   "cell_type": "code",
   "execution_count": 6,
   "metadata": {},
   "outputs": [
    {
     "data": {
      "text/html": [
       "<dl class=dl-horizontal>\n",
       "\t<dt>CDS_CODE</dt>\n",
       "\t\t<dd>0</dd>\n",
       "\t<dt>COUNTY</dt>\n",
       "\t\t<dd>0</dd>\n",
       "\t<dt>DISTRICT</dt>\n",
       "\t\t<dd>0</dd>\n",
       "\t<dt>SCHOOL</dt>\n",
       "\t\t<dd>0</dd>\n",
       "\t<dt>ETHNIC</dt>\n",
       "\t\t<dd>0</dd>\n",
       "\t<dt>GENDER</dt>\n",
       "\t\t<dd>0</dd>\n",
       "\t<dt>KDGN</dt>\n",
       "\t\t<dd>0</dd>\n",
       "\t<dt>GR_1</dt>\n",
       "\t\t<dd>0</dd>\n",
       "\t<dt>GR_2</dt>\n",
       "\t\t<dd>0</dd>\n",
       "\t<dt>GR_3</dt>\n",
       "\t\t<dd>0</dd>\n",
       "\t<dt>GR_4</dt>\n",
       "\t\t<dd>0</dd>\n",
       "\t<dt>GR_5</dt>\n",
       "\t\t<dd>0</dd>\n",
       "\t<dt>GR_6</dt>\n",
       "\t\t<dd>0</dd>\n",
       "\t<dt>GR_7</dt>\n",
       "\t\t<dd>0</dd>\n",
       "\t<dt>GR_8</dt>\n",
       "\t\t<dd>0</dd>\n",
       "\t<dt>UNGR_ELM</dt>\n",
       "\t\t<dd>0</dd>\n",
       "\t<dt>GR_9</dt>\n",
       "\t\t<dd>0</dd>\n",
       "\t<dt>GR_10</dt>\n",
       "\t\t<dd>0</dd>\n",
       "\t<dt>GR_11</dt>\n",
       "\t\t<dd>0</dd>\n",
       "\t<dt>GR_12</dt>\n",
       "\t\t<dd>0</dd>\n",
       "\t<dt>UNGR_SEC</dt>\n",
       "\t\t<dd>0</dd>\n",
       "\t<dt>ENR_TOTAL</dt>\n",
       "\t\t<dd>0</dd>\n",
       "\t<dt>ADULT</dt>\n",
       "\t\t<dd>0</dd>\n",
       "\t<dt>Year</dt>\n",
       "\t\t<dd>0</dd>\n",
       "</dl>\n"
      ],
      "text/latex": [
       "\\begin{description*}\n",
       "\\item[CDS\\textbackslash{}\\_CODE] 0\n",
       "\\item[COUNTY] 0\n",
       "\\item[DISTRICT] 0\n",
       "\\item[SCHOOL] 0\n",
       "\\item[ETHNIC] 0\n",
       "\\item[GENDER] 0\n",
       "\\item[KDGN] 0\n",
       "\\item[GR\\textbackslash{}\\_1] 0\n",
       "\\item[GR\\textbackslash{}\\_2] 0\n",
       "\\item[GR\\textbackslash{}\\_3] 0\n",
       "\\item[GR\\textbackslash{}\\_4] 0\n",
       "\\item[GR\\textbackslash{}\\_5] 0\n",
       "\\item[GR\\textbackslash{}\\_6] 0\n",
       "\\item[GR\\textbackslash{}\\_7] 0\n",
       "\\item[GR\\textbackslash{}\\_8] 0\n",
       "\\item[UNGR\\textbackslash{}\\_ELM] 0\n",
       "\\item[GR\\textbackslash{}\\_9] 0\n",
       "\\item[GR\\textbackslash{}\\_10] 0\n",
       "\\item[GR\\textbackslash{}\\_11] 0\n",
       "\\item[GR\\textbackslash{}\\_12] 0\n",
       "\\item[UNGR\\textbackslash{}\\_SEC] 0\n",
       "\\item[ENR\\textbackslash{}\\_TOTAL] 0\n",
       "\\item[ADULT] 0\n",
       "\\item[Year] 0\n",
       "\\end{description*}\n"
      ],
      "text/markdown": [
       "CDS_CODE\n",
       ":   0COUNTY\n",
       ":   0DISTRICT\n",
       ":   0SCHOOL\n",
       ":   0ETHNIC\n",
       ":   0GENDER\n",
       ":   0KDGN\n",
       ":   0GR_1\n",
       ":   0GR_2\n",
       ":   0GR_3\n",
       ":   0GR_4\n",
       ":   0GR_5\n",
       ":   0GR_6\n",
       ":   0GR_7\n",
       ":   0GR_8\n",
       ":   0UNGR_ELM\n",
       ":   0GR_9\n",
       ":   0GR_10\n",
       ":   0GR_11\n",
       ":   0GR_12\n",
       ":   0UNGR_SEC\n",
       ":   0ENR_TOTAL\n",
       ":   0ADULT\n",
       ":   0Year\n",
       ":   0\n",
       "\n"
      ],
      "text/plain": [
       " CDS_CODE    COUNTY  DISTRICT    SCHOOL    ETHNIC    GENDER      KDGN      GR_1 \n",
       "        0         0         0         0         0         0         0         0 \n",
       "     GR_2      GR_3      GR_4      GR_5      GR_6      GR_7      GR_8  UNGR_ELM \n",
       "        0         0         0         0         0         0         0         0 \n",
       "     GR_9     GR_10     GR_11     GR_12  UNGR_SEC ENR_TOTAL     ADULT      Year \n",
       "        0         0         0         0         0         0         0         0 "
      ]
     },
     "metadata": {},
     "output_type": "display_data"
    }
   ],
   "source": [
    "## Check for N/A values\n",
    "sapply(df, function(x) sum(is.na(x)))"
   ]
  },
  {
   "cell_type": "code",
   "execution_count": 7,
   "metadata": {},
   "outputs": [
    {
     "data": {
      "text/html": [
       "<ol class=list-inline>\n",
       "\t<li>1</li>\n",
       "\t<li>3</li>\n",
       "\t<li>9</li>\n",
       "\t<li>7</li>\n",
       "\t<li>2</li>\n",
       "\t<li>6</li>\n",
       "\t<li>4</li>\n",
       "\t<li>5</li>\n",
       "\t<li>0</li>\n",
       "</ol>\n"
      ],
      "text/latex": [
       "\\begin{enumerate*}\n",
       "\\item 1\n",
       "\\item 3\n",
       "\\item 9\n",
       "\\item 7\n",
       "\\item 2\n",
       "\\item 6\n",
       "\\item 4\n",
       "\\item 5\n",
       "\\item 0\n",
       "\\end{enumerate*}\n"
      ],
      "text/markdown": [
       "1. 1\n",
       "2. 3\n",
       "3. 9\n",
       "4. 7\n",
       "5. 2\n",
       "6. 6\n",
       "7. 4\n",
       "8. 5\n",
       "9. 0\n",
       "\n",
       "\n"
      ],
      "text/plain": [
       "[1] 1 3 9 7 2 6 4 5 0"
      ]
     },
     "metadata": {},
     "output_type": "display_data"
    },
    {
     "data": {
      "text/html": [
       "<ol class=list-inline>\n",
       "\t<li>M</li>\n",
       "\t<li>F</li>\n",
       "\t<li>X</li>\n",
       "</ol>\n",
       "\n",
       "<details>\n",
       "\t<summary style=display:list-item;cursor:pointer>\n",
       "\t\t<strong>Levels</strong>:\n",
       "\t</summary>\n",
       "\t<ol class=list-inline>\n",
       "\t\t<li>'F'</li>\n",
       "\t\t<li>'M'</li>\n",
       "\t\t<li>'X'</li>\n",
       "\t</ol>\n",
       "</details>"
      ],
      "text/latex": [
       "\\begin{enumerate*}\n",
       "\\item M\n",
       "\\item F\n",
       "\\item X\n",
       "\\end{enumerate*}\n",
       "\n",
       "\\emph{Levels}: \\begin{enumerate*}\n",
       "\\item 'F'\n",
       "\\item 'M'\n",
       "\\item 'X'\n",
       "\\end{enumerate*}\n"
      ],
      "text/markdown": [
       "1. M\n",
       "2. F\n",
       "3. X\n",
       "\n",
       "\n",
       "\n",
       "**Levels**: 1. 'F'\n",
       "2. 'M'\n",
       "3. 'X'\n",
       "\n",
       "\n"
      ],
      "text/plain": [
       "[1] M F X\n",
       "Levels: F M X"
      ]
     },
     "metadata": {},
     "output_type": "display_data"
    }
   ],
   "source": [
    "#Check unique values\n",
    "unique(df$ETHNIC)\n",
    "unique(df$GENDER)"
   ]
  },
  {
   "cell_type": "code",
   "execution_count": 8,
   "metadata": {},
   "outputs": [
    {
     "data": {
      "text/html": [
       "<dl class=dl-horizontal>\n",
       "\t<dt>CDS_CODE</dt>\n",
       "\t\t<dd>'numeric'</dd>\n",
       "\t<dt>COUNTY</dt>\n",
       "\t\t<dd>'factor'</dd>\n",
       "\t<dt>DISTRICT</dt>\n",
       "\t\t<dd>'factor'</dd>\n",
       "\t<dt>SCHOOL</dt>\n",
       "\t\t<dd>'factor'</dd>\n",
       "\t<dt>ETHNIC</dt>\n",
       "\t\t<dd>'integer'</dd>\n",
       "\t<dt>GENDER</dt>\n",
       "\t\t<dd>'factor'</dd>\n",
       "\t<dt>KDGN</dt>\n",
       "\t\t<dd>'integer'</dd>\n",
       "\t<dt>GR_1</dt>\n",
       "\t\t<dd>'integer'</dd>\n",
       "\t<dt>GR_2</dt>\n",
       "\t\t<dd>'integer'</dd>\n",
       "\t<dt>GR_3</dt>\n",
       "\t\t<dd>'integer'</dd>\n",
       "\t<dt>GR_4</dt>\n",
       "\t\t<dd>'integer'</dd>\n",
       "\t<dt>GR_5</dt>\n",
       "\t\t<dd>'integer'</dd>\n",
       "\t<dt>GR_6</dt>\n",
       "\t\t<dd>'integer'</dd>\n",
       "\t<dt>GR_7</dt>\n",
       "\t\t<dd>'integer'</dd>\n",
       "\t<dt>GR_8</dt>\n",
       "\t\t<dd>'integer'</dd>\n",
       "\t<dt>UNGR_ELM</dt>\n",
       "\t\t<dd>'integer'</dd>\n",
       "\t<dt>GR_9</dt>\n",
       "\t\t<dd>'integer'</dd>\n",
       "\t<dt>GR_10</dt>\n",
       "\t\t<dd>'integer'</dd>\n",
       "\t<dt>GR_11</dt>\n",
       "\t\t<dd>'integer'</dd>\n",
       "\t<dt>GR_12</dt>\n",
       "\t\t<dd>'integer'</dd>\n",
       "\t<dt>UNGR_SEC</dt>\n",
       "\t\t<dd>'integer'</dd>\n",
       "\t<dt>ENR_TOTAL</dt>\n",
       "\t\t<dd>'integer'</dd>\n",
       "\t<dt>ADULT</dt>\n",
       "\t\t<dd>'integer'</dd>\n",
       "\t<dt>Year</dt>\n",
       "\t\t<dd>'factor'</dd>\n",
       "</dl>\n"
      ],
      "text/latex": [
       "\\begin{description*}\n",
       "\\item[CDS\\textbackslash{}\\_CODE] 'numeric'\n",
       "\\item[COUNTY] 'factor'\n",
       "\\item[DISTRICT] 'factor'\n",
       "\\item[SCHOOL] 'factor'\n",
       "\\item[ETHNIC] 'integer'\n",
       "\\item[GENDER] 'factor'\n",
       "\\item[KDGN] 'integer'\n",
       "\\item[GR\\textbackslash{}\\_1] 'integer'\n",
       "\\item[GR\\textbackslash{}\\_2] 'integer'\n",
       "\\item[GR\\textbackslash{}\\_3] 'integer'\n",
       "\\item[GR\\textbackslash{}\\_4] 'integer'\n",
       "\\item[GR\\textbackslash{}\\_5] 'integer'\n",
       "\\item[GR\\textbackslash{}\\_6] 'integer'\n",
       "\\item[GR\\textbackslash{}\\_7] 'integer'\n",
       "\\item[GR\\textbackslash{}\\_8] 'integer'\n",
       "\\item[UNGR\\textbackslash{}\\_ELM] 'integer'\n",
       "\\item[GR\\textbackslash{}\\_9] 'integer'\n",
       "\\item[GR\\textbackslash{}\\_10] 'integer'\n",
       "\\item[GR\\textbackslash{}\\_11] 'integer'\n",
       "\\item[GR\\textbackslash{}\\_12] 'integer'\n",
       "\\item[UNGR\\textbackslash{}\\_SEC] 'integer'\n",
       "\\item[ENR\\textbackslash{}\\_TOTAL] 'integer'\n",
       "\\item[ADULT] 'integer'\n",
       "\\item[Year] 'factor'\n",
       "\\end{description*}\n"
      ],
      "text/markdown": [
       "CDS_CODE\n",
       ":   'numeric'COUNTY\n",
       ":   'factor'DISTRICT\n",
       ":   'factor'SCHOOL\n",
       ":   'factor'ETHNIC\n",
       ":   'integer'GENDER\n",
       ":   'factor'KDGN\n",
       ":   'integer'GR_1\n",
       ":   'integer'GR_2\n",
       ":   'integer'GR_3\n",
       ":   'integer'GR_4\n",
       ":   'integer'GR_5\n",
       ":   'integer'GR_6\n",
       ":   'integer'GR_7\n",
       ":   'integer'GR_8\n",
       ":   'integer'UNGR_ELM\n",
       ":   'integer'GR_9\n",
       ":   'integer'GR_10\n",
       ":   'integer'GR_11\n",
       ":   'integer'GR_12\n",
       ":   'integer'UNGR_SEC\n",
       ":   'integer'ENR_TOTAL\n",
       ":   'integer'ADULT\n",
       ":   'integer'Year\n",
       ":   'factor'\n",
       "\n"
      ],
      "text/plain": [
       " CDS_CODE    COUNTY  DISTRICT    SCHOOL    ETHNIC    GENDER      KDGN      GR_1 \n",
       "\"numeric\"  \"factor\"  \"factor\"  \"factor\" \"integer\"  \"factor\" \"integer\" \"integer\" \n",
       "     GR_2      GR_3      GR_4      GR_5      GR_6      GR_7      GR_8  UNGR_ELM \n",
       "\"integer\" \"integer\" \"integer\" \"integer\" \"integer\" \"integer\" \"integer\" \"integer\" \n",
       "     GR_9     GR_10     GR_11     GR_12  UNGR_SEC ENR_TOTAL     ADULT      Year \n",
       "\"integer\" \"integer\" \"integer\" \"integer\" \"integer\" \"integer\" \"integer\"  \"factor\" "
      ]
     },
     "metadata": {},
     "output_type": "display_data"
    }
   ],
   "source": [
    "##Examine the class of the variables \n",
    "sapply(df, class)"
   ]
  },
  {
   "cell_type": "code",
   "execution_count": 9,
   "metadata": {},
   "outputs": [
    {
     "data": {
      "text/html": [
       "<table>\n",
       "<caption>A data.frame: 14 × 5</caption>\n",
       "<thead>\n",
       "\t<tr><th scope=col>ETHNIC</th><th scope=col>SCHOOL</th><th scope=col>ENR_TOTAL</th><th scope=col>GENDER</th><th scope=col>Year</th></tr>\n",
       "\t<tr><th scope=col>&lt;int&gt;</th><th scope=col>&lt;fct&gt;</th><th scope=col>&lt;int&gt;</th><th scope=col>&lt;fct&gt;</th><th scope=col>&lt;fct&gt;</th></tr>\n",
       "</thead>\n",
       "<tbody>\n",
       "\t<tr><td>2</td><td>Amelia Earhart Elementary</td><td>101</td><td>F</td><td>2015</td></tr>\n",
       "\t<tr><td>2</td><td>Amelia Earhart Elementary</td><td> 94</td><td>M</td><td>2015</td></tr>\n",
       "\t<tr><td>2</td><td>Amelia Earhart Elementary</td><td>105</td><td>F</td><td>2016</td></tr>\n",
       "\t<tr><td>2</td><td>Amelia Earhart Elementary</td><td> 93</td><td>M</td><td>2016</td></tr>\n",
       "\t<tr><td>2</td><td>Amelia Earhart Elementary</td><td>101</td><td>F</td><td>2017</td></tr>\n",
       "\t<tr><td>2</td><td>Amelia Earhart Elementary</td><td> 99</td><td>M</td><td>2017</td></tr>\n",
       "\t<tr><td>2</td><td>Amelia Earhart Elementary</td><td>112</td><td>F</td><td>2018</td></tr>\n",
       "\t<tr><td>2</td><td>Amelia Earhart Elementary</td><td>120</td><td>M</td><td>2018</td></tr>\n",
       "\t<tr><td>2</td><td>Amelia Earhart Elementary</td><td>105</td><td>F</td><td>2019</td></tr>\n",
       "\t<tr><td>2</td><td>Amelia Earhart Elementary</td><td>121</td><td>M</td><td>2019</td></tr>\n",
       "\t<tr><td>2</td><td>Amelia Earhart Elementary</td><td>110</td><td>F</td><td>2020</td></tr>\n",
       "\t<tr><td>2</td><td>Amelia Earhart Elementary</td><td>129</td><td>M</td><td>2020</td></tr>\n",
       "\t<tr><td>2</td><td>Amelia Earhart Elementary</td><td>106</td><td>F</td><td>2021</td></tr>\n",
       "\t<tr><td>2</td><td>Amelia Earhart Elementary</td><td>121</td><td>M</td><td>2021</td></tr>\n",
       "</tbody>\n",
       "</table>\n"
      ],
      "text/latex": [
       "A data.frame: 14 × 5\n",
       "\\begin{tabular}{r|lllll}\n",
       " ETHNIC & SCHOOL & ENR\\_TOTAL & GENDER & Year\\\\\n",
       " <int> & <fct> & <int> & <fct> & <fct>\\\\\n",
       "\\hline\n",
       "\t 2 & Amelia Earhart Elementary & 101 & F & 2015\\\\\n",
       "\t 2 & Amelia Earhart Elementary &  94 & M & 2015\\\\\n",
       "\t 2 & Amelia Earhart Elementary & 105 & F & 2016\\\\\n",
       "\t 2 & Amelia Earhart Elementary &  93 & M & 2016\\\\\n",
       "\t 2 & Amelia Earhart Elementary & 101 & F & 2017\\\\\n",
       "\t 2 & Amelia Earhart Elementary &  99 & M & 2017\\\\\n",
       "\t 2 & Amelia Earhart Elementary & 112 & F & 2018\\\\\n",
       "\t 2 & Amelia Earhart Elementary & 120 & M & 2018\\\\\n",
       "\t 2 & Amelia Earhart Elementary & 105 & F & 2019\\\\\n",
       "\t 2 & Amelia Earhart Elementary & 121 & M & 2019\\\\\n",
       "\t 2 & Amelia Earhart Elementary & 110 & F & 2020\\\\\n",
       "\t 2 & Amelia Earhart Elementary & 129 & M & 2020\\\\\n",
       "\t 2 & Amelia Earhart Elementary & 106 & F & 2021\\\\\n",
       "\t 2 & Amelia Earhart Elementary & 121 & M & 2021\\\\\n",
       "\\end{tabular}\n"
      ],
      "text/markdown": [
       "\n",
       "A data.frame: 14 × 5\n",
       "\n",
       "| ETHNIC &lt;int&gt; | SCHOOL &lt;fct&gt; | ENR_TOTAL &lt;int&gt; | GENDER &lt;fct&gt; | Year &lt;fct&gt; |\n",
       "|---|---|---|---|---|\n",
       "| 2 | Amelia Earhart Elementary | 101 | F | 2015 |\n",
       "| 2 | Amelia Earhart Elementary |  94 | M | 2015 |\n",
       "| 2 | Amelia Earhart Elementary | 105 | F | 2016 |\n",
       "| 2 | Amelia Earhart Elementary |  93 | M | 2016 |\n",
       "| 2 | Amelia Earhart Elementary | 101 | F | 2017 |\n",
       "| 2 | Amelia Earhart Elementary |  99 | M | 2017 |\n",
       "| 2 | Amelia Earhart Elementary | 112 | F | 2018 |\n",
       "| 2 | Amelia Earhart Elementary | 120 | M | 2018 |\n",
       "| 2 | Amelia Earhart Elementary | 105 | F | 2019 |\n",
       "| 2 | Amelia Earhart Elementary | 121 | M | 2019 |\n",
       "| 2 | Amelia Earhart Elementary | 110 | F | 2020 |\n",
       "| 2 | Amelia Earhart Elementary | 129 | M | 2020 |\n",
       "| 2 | Amelia Earhart Elementary | 106 | F | 2021 |\n",
       "| 2 | Amelia Earhart Elementary | 121 | M | 2021 |\n",
       "\n"
      ],
      "text/plain": [
       "   ETHNIC SCHOOL                    ENR_TOTAL GENDER Year\n",
       "1  2      Amelia Earhart Elementary 101       F      2015\n",
       "2  2      Amelia Earhart Elementary  94       M      2015\n",
       "3  2      Amelia Earhart Elementary 105       F      2016\n",
       "4  2      Amelia Earhart Elementary  93       M      2016\n",
       "5  2      Amelia Earhart Elementary 101       F      2017\n",
       "6  2      Amelia Earhart Elementary  99       M      2017\n",
       "7  2      Amelia Earhart Elementary 112       F      2018\n",
       "8  2      Amelia Earhart Elementary 120       M      2018\n",
       "9  2      Amelia Earhart Elementary 105       F      2019\n",
       "10 2      Amelia Earhart Elementary 121       M      2019\n",
       "11 2      Amelia Earhart Elementary 110       F      2020\n",
       "12 2      Amelia Earhart Elementary 129       M      2020\n",
       "13 2      Amelia Earhart Elementary 106       F      2021\n",
       "14 2      Amelia Earhart Elementary 121       M      2021"
      ]
     },
     "metadata": {},
     "output_type": "display_data"
    }
   ],
   "source": [
    "# Filter the data to better understand what a single category of ethnic and school looks like over the years\n",
    "\n",
    "df %>% select(ETHNIC,SCHOOL,ENR_TOTAL,GENDER,Year) %>% filter(ETHNIC==\"2\", SCHOOL==\"Amelia Earhart Elementary\")"
   ]
  },
  {
   "cell_type": "code",
   "execution_count": 10,
   "metadata": {},
   "outputs": [],
   "source": [
    "#Save our dataframe to an Rda file\n",
    "\n",
    "saveRDS(df,file=\"Group7DataFrame.Rda\")\n"
   ]
  }
 ],
 "metadata": {
  "kernelspec": {
   "display_name": "R",
   "language": "R",
   "name": "ir"
  },
  "language_info": {
   "codemirror_mode": "r",
   "file_extension": ".r",
   "mimetype": "text/x-r-source",
   "name": "R",
   "pygments_lexer": "r",
   "version": "3.5.1"
  }
 },
 "nbformat": 4,
 "nbformat_minor": 2
}
