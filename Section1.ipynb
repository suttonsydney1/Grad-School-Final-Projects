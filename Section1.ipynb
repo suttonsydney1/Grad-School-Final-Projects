{
 "cells": [
  {
   "cell_type": "markdown",
   "metadata": {},
   "source": [
    "## Section 1: Data carpentry and ingest\n",
    "Some data carpentry was completed in the creation of the .csv files by year which were uploaded to the euposa.dsa.missouri.edu server, to include conversion of the data into a .csv file type.\n",
    "\n",
    "The code below loads in the necessary libraries, followed by code for loading the different data files into a single dataframe for use in our data story.\n",
    "\n",
    "No additional data carpentry was needed at this time, although we did check for any missing data via the initial data discovery section.\n",
    "\n",
    "SaveRDS is used in this notebook as well as every notebook (except the last one) to save out our dataframe as a .Rda file (our main dataframe is \"Group7DataFrame.Rda\") and any other dataframe that is needed in another notebook.  After this notebook, readRDS is used to load in our dataframe prior to running the associated code."
   ]
  },
  {
   "cell_type": "code",
   "execution_count": 1,
   "metadata": {},
   "outputs": [
    {
     "name": "stdout",
     "output_type": "stream",
     "text": [
      "Loading: ~/jupyter/casestudy_data/group_7/2015.csv \n",
      "Loading: ~/jupyter/casestudy_data/group_7/2016.csv \n",
      "Loading: ~/jupyter/casestudy_data/group_7/2017.csv \n",
      "Loading: ~/jupyter/casestudy_data/group_7/2018.csv \n",
      "Loading: ~/jupyter/casestudy_data/group_7/2019.csv \n",
      "Loading: ~/jupyter/casestudy_data/group_7/2020.csv \n",
      "Loading: ~/jupyter/casestudy_data/group_7/2021.csv \n"
     ]
    }
   ],
   "source": [
    "#creat a function to easily load in the different files by year\n",
    "read_file <- function(yr) {\n",
    "    fn <- paste(\"~/jupyter/casestudy_data/group_7/\",yr,\".csv\", sep = \"\")\n",
    "    cat(paste(\"Loading:\", fn, '\\n'))\n",
    "    df <- read.csv(fn)\n",
    "    df$Year <- rep(yr,nrow(df)) # make new column for the year variable\n",
    "    return (df)\n",
    "}\n",
    "\n",
    "#load in the files\n",
    "df <- read_file(2015)\n",
    "years = seq(2016, 2021, by=1)\n",
    "for (yr in years) {\n",
    "    yr_df <- read_file(yr)\n",
    "    df <- rbind(df,yr_df)\n",
    "}"
   ]
  },
  {
   "cell_type": "code",
   "execution_count": 2,
   "metadata": {},
   "outputs": [],
   "source": [
    "#Save out the dataframe as an Rda\n",
    "saveRDS(df,file=\"Group7DataFrame.Rda\")\n"
   ]
  },
  {
   "cell_type": "code",
   "execution_count": null,
   "metadata": {},
   "outputs": [],
   "source": []
  }
 ],
 "metadata": {
  "kernelspec": {
   "display_name": "R",
   "language": "R",
   "name": "ir"
  },
  "language_info": {
   "codemirror_mode": "r",
   "file_extension": ".r",
   "mimetype": "text/x-r-source",
   "name": "R",
   "pygments_lexer": "r",
   "version": "3.5.1"
  }
 },
 "nbformat": 4,
 "nbformat_minor": 2
}
